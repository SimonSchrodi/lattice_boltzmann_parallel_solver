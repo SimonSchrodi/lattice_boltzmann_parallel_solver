{
 "cells": [
  {
   "cell_type": "code",
   "execution_count": 1,
   "metadata": {},
   "outputs": [
    {
     "data": {
      "text/plain": [
       "[0, 1, 2, 3, 4, 5, 6, 7, 8, 9]"
      ]
     },
     "execution_count": 1,
     "metadata": {},
     "output_type": "execute_result"
    }
   ],
   "source": [
    "\n",
    "\n",
    "import ipyparallel as ipp\n",
    "c = ipp.Client()\n",
    "c.ids\n",
    "\n"
   ]
  },
  {
   "cell_type": "code",
   "execution_count": 2,
   "metadata": {
    "scrolled": true
   },
   "outputs": [
    {
     "name": "stdout",
     "output_type": "stream",
     "text": [
      "[stdout:0] Rank 0 of 10 is alive.\n",
      "[stdout:1] Rank 1 of 10 is alive.\n",
      "[stdout:2] Rank 2 of 10 is alive.\n",
      "[stdout:3] Rank 3 of 10 is alive.\n",
      "[stdout:4] Rank 4 of 10 is alive.\n",
      "[stdout:5] Rank 5 of 10 is alive.\n",
      "[stdout:6] Rank 6 of 10 is alive.\n",
      "[stdout:7] Rank 7 of 10 is alive.\n",
      "[stdout:8] Rank 8 of 10 is alive.\n",
      "[stdout:9] Rank 9 of 10 is alive.\n"
     ]
    }
   ],
   "source": [
    "%%px\n",
    "from mpi4py import MPI\n",
    "comm = MPI.COMM_WORLD\n",
    "print('Rank {} of {} is alive.'.format(comm.Get_rank(), comm.Get_size()))"
   ]
  },
  {
   "cell_type": "code",
   "execution_count": 3,
   "metadata": {},
   "outputs": [],
   "source": [
    "%%px\n",
    "lx = 20\n",
    "ly = 20\n",
    "d = 40"
   ]
  },
  {
   "cell_type": "code",
   "execution_count": 4,
   "metadata": {},
   "outputs": [
    {
     "name": "stdout",
     "output_type": "stream",
     "text": [
      "[stdout:0] In 3D topology, Processor  0  has coordinates  [0, 0]\n",
      "[stdout:1] In 3D topology, Processor  1  has coordinates  [0, 1]\n",
      "[stdout:2] In 3D topology, Processor  2  has coordinates  [0, 2]\n",
      "[stdout:3] In 3D topology, Processor  3  has coordinates  [0, 3]\n",
      "[stdout:4] In 3D topology, Processor  4  has coordinates  [0, 4]\n",
      "[stdout:5] In 3D topology, Processor  5  has coordinates  [1, 0]\n",
      "[stdout:6] In 3D topology, Processor  6  has coordinates  [1, 1]\n",
      "[stdout:7] In 3D topology, Processor  7  has coordinates  [1, 2]\n",
      "[stdout:8] In 3D topology, Processor  8  has coordinates  [1, 3]\n",
      "[stdout:9] In 3D topology, Processor  9  has coordinates  [1, 4]\n"
     ]
    }
   ],
   "source": [
    "%%px\n",
    "import numpy as np\n",
    "from mpi4py import MPI\n",
    "comm = MPI.COMM_WORLD\n",
    "size = comm.Get_size()\n",
    "gcd = np.gcd(np.arange(size), size)\n",
    "gcd_sorted = np.sort(gcd)\n",
    "y_size = gcd_sorted[-2]\n",
    "x_size = size/gcd_sorted[-2]\n",
    "cartesian2d = comm.Create_cart(dims = [x_size, y_size], periods =[True, True],reorder=False)\n",
    "rank = comm.Get_rank()\n",
    "coord2d = cartesian2d.Get_coords(rank)\n",
    "print (\"In 3D topology, Processor \",rank, \" has coordinates \",coord2d)"
   ]
  },
  {
   "cell_type": "code",
   "execution_count": 5,
   "metadata": {},
   "outputs": [
    {
     "name": "stdout",
     "output_type": "stream",
     "text": [
      "[stdout:0] 10.0 4\n",
      "[stdout:1] 10.0 4\n",
      "[stdout:2] 10.0 4\n",
      "[stdout:3] 10.0 4\n",
      "[stdout:4] 10.0 4\n",
      "[stdout:5] 10.0 4\n",
      "[stdout:6] 10.0 4\n",
      "[stdout:7] 10.0 4\n",
      "[stdout:8] 10.0 4\n",
      "[stdout:9] 10.0 4\n"
     ]
    }
   ],
   "source": [
    "%%px\n",
    "n_local_x = lx // x_size\n",
    "n_local_y = ly // y_size\n",
    "if coord2d[0] + 1 == x_size:\n",
    "    n_local_x = lx - n_local_x * (x_size - 1)\n",
    "    \n",
    "if coord2d[1] + 1 == y_size:\n",
    "    n_local_y = ly - n_local_y * (y_size - 1)\n",
    "    \n",
    "#if coords2d[0] + 1 <= lx - n_local_x * x_size:\n",
    "#    n_local_x += 1\n",
    "\n",
    "#if coords2d[1] + 1 <= ly - n_local_y * y_size:\n",
    "#    n_local_y += 1\n",
    "print(n_local_x, n_local_y)"
   ]
  },
  {
   "cell_type": "code",
   "execution_count": 6,
   "metadata": {},
   "outputs": [
    {
     "name": "stdout",
     "output_type": "stream",
     "text": [
      "[stdout:0] \n",
      "Process  0  coordinates  [0, 0]  with neighbors in x 5 5\n",
      "Process  0  coordinates  [0, 0]  with neighbors in y  1 4\n",
      "[stdout:1] \n",
      "Process  1  coordinates  [0, 1]  with neighbors in x 6 6\n",
      "Process  1  coordinates  [0, 1]  with neighbors in y  2 0\n",
      "[stdout:2] \n",
      "Process  2  coordinates  [0, 2]  with neighbors in x 7 7\n",
      "Process  2  coordinates  [0, 2]  with neighbors in y  3 1\n",
      "[stdout:3] \n",
      "Process  3  coordinates  [0, 3]  with neighbors in x 8 8\n",
      "Process  3  coordinates  [0, 3]  with neighbors in y  4 2\n",
      "[stdout:4] \n",
      "Process  4  coordinates  [0, 4]  with neighbors in x 9 9\n",
      "Process  4  coordinates  [0, 4]  with neighbors in y  0 3\n",
      "[stdout:5] \n",
      "Process  5  coordinates  [1, 0]  with neighbors in x 0 0\n",
      "Process  5  coordinates  [1, 0]  with neighbors in y  6 9\n",
      "[stdout:6] \n",
      "Process  6  coordinates  [1, 1]  with neighbors in x 1 1\n",
      "Process  6  coordinates  [1, 1]  with neighbors in y  7 5\n",
      "[stdout:7] \n",
      "Process  7  coordinates  [1, 2]  with neighbors in x 2 2\n",
      "Process  7  coordinates  [1, 2]  with neighbors in y  8 6\n",
      "[stdout:8] \n",
      "Process  8  coordinates  [1, 3]  with neighbors in x 3 3\n",
      "Process  8  coordinates  [1, 3]  with neighbors in y  9 7\n",
      "[stdout:9] \n",
      "Process  9  coordinates  [1, 4]  with neighbors in x 4 4\n",
      "Process  9  coordinates  [1, 4]  with neighbors in y  5 8\n"
     ]
    }
   ],
   "source": [
    "%%px\n",
    "left, right = cartesian2d.Shift(direction = 0,disp=1)\n",
    "print('Process ',rank, ' coordinates ', coord2d, ' with neighbors in x', left, right)\n",
    "\n",
    "bottom, top = cartesian2d.Shift(direction = 1,disp=1)\n",
    "print('Process ',rank, ' coordinates ', coord2d, ' with neighbors in y ', top, bottom)"
   ]
  },
  {
   "cell_type": "code",
   "execution_count": 7,
   "metadata": {},
   "outputs": [
    {
     "name": "stdout",
     "output_type": "stream",
     "text": [
      "[stdout:0] Process  0  coordinates  [0, 0]  with neighbors in y  1 -2 -2 1\n",
      "[stdout:1] Process  1  coordinates  [0, 1]  with neighbors in y  2 0 0 2\n",
      "[stdout:2] Process  2  coordinates  [0, 2]  with neighbors in y  3 1 1 3\n",
      "[stdout:3] Process  3  coordinates  [0, 3]  with neighbors in y  4 2 2 4\n",
      "[stdout:4] Process  4  coordinates  [0, 4]  with neighbors in y  -2 3 3 -2\n",
      "[stdout:5] Process  5  coordinates  [1, 0]  with neighbors in y  6 -2 -2 6\n",
      "[stdout:6] Process  6  coordinates  [1, 1]  with neighbors in y  7 5 5 7\n",
      "[stdout:7] Process  7  coordinates  [1, 2]  with neighbors in y  8 6 6 8\n",
      "[stdout:8] Process  8  coordinates  [1, 3]  with neighbors in y  9 7 7 9\n",
      "[stdout:9] Process  9  coordinates  [1, 4]  with neighbors in y  -2 8 8 -2\n"
     ]
    }
   ],
   "source": [
    "%%px\n",
    "comm = MPI.COMM_WORLD.Create_cart((x_size, y_size), periods=(False, False))\n",
    "left_src, left_dst = comm.Shift(0, -1)\n",
    "right_src, right_dst = comm.Shift(0, 1)\n",
    "bottom_src, bottom_dst = comm.Shift(1, -1)\n",
    "top_src, top_dst = comm.Shift(1, 1)\n",
    "print('Process ',rank, ' coordinates ', coord2d, ' with neighbors in y ', bottom_src, bottom_dst, top_src, top_dst)"
   ]
  },
  {
   "cell_type": "code",
   "execution_count": 37,
   "metadata": {},
   "outputs": [
    {
     "name": "stdout",
     "output_type": "stream",
     "text": [
      "[stdout:0] [0, 0]\n",
      "[stdout:1] [0, 1]\n"
     ]
    }
   ],
   "source": [
    "%%px\n",
    "if coord2d[0] == 0:\n",
    "    print(coord2d)"
   ]
  },
  {
   "cell_type": "code",
   "execution_count": 38,
   "metadata": {},
   "outputs": [
    {
     "name": "stdout",
     "output_type": "stream",
     "text": [
      "[stdout:0] (105, 45)\n",
      "[stdout:1] (105, 45)\n",
      "[stdout:2] (105, 45)\n",
      "[stdout:3] (105, 45)\n"
     ]
    }
   ],
   "source": [
    "%%px\n",
    "\n",
    "n_local_x = lx // size\n",
    "n_local_y = ly // size\n",
    "if rank == size - 1:\n",
    "    n_local_x = lx - n_local_x * (size - 1)\n",
    "    n_local_y = ly - n_local_y * (size - 1)\n",
    "    \n",
    "a = np.ones((n_local_x, n_local_y))\n",
    "print(a.shape)"
   ]
  },
  {
   "cell_type": "code",
   "execution_count": 51,
   "metadata": {},
   "outputs": [
    {
     "data": {
      "text/plain": [
       "\u001b[0;31mOut[0:49]: \u001b[0mFalse"
      ]
     },
     "metadata": {
      "after": [],
      "completed": "2020-07-15T21:52:49.459723",
      "data": {},
      "engine_id": 0,
      "engine_uuid": "af4d7228-cb57d85e037899cc36833273",
      "error": null,
      "execute_input": "def x_in_process(coord2d, x_coord, lx, processes_in_x):\n    lower = coord2d[0] * (lx // processes_in_x)\n    upper = (coord2d[0] + 1) * (lx // processes_in_x) - 1 if not coord2d[0] == processes_in_x - 1 else lx - 1\n    return lower <= x_coord <= upper\n\ndef y_in_process(coord2d, y_coord, ly, processes_in_y):\n    lower = coord2d[1] * (ly // processes_in_y)\n    upper = (coord2d[1] + 1) * (ly // processes_in_y) - 1 if not coord2d[1] == processes_in_y - 1 else ly - 1\n    return lower <= y_coord <= upper\n#x_in_process(coord2d, 0, lx-1, x_size)\ny_in_process(coord2d, 6, ly, y_size)\n",
      "execute_result": {
       "data": {
        "text/plain": "False"
       },
       "execution_count": 49,
       "metadata": {}
      },
      "follow": [],
      "msg_id": "fb739d51-6492a50db6d5bc183296121d_289",
      "outputs": [],
      "received": "2020-07-15T21:52:49.463225",
      "started": "2020-07-15T21:52:49.446133",
      "status": "ok",
      "stderr": "",
      "stdout": "",
      "submitted": "2020-07-15T21:52:49.440262"
     },
     "output_type": "display_data"
    },
    {
     "data": {
      "text/plain": [
       "\u001b[0;31mOut[1:49]: \u001b[0mFalse"
      ]
     },
     "metadata": {
      "after": [],
      "completed": "2020-07-15T21:52:49.465650",
      "data": {},
      "engine_id": 1,
      "engine_uuid": "32f5d476-17860b5f01c6cc47c2b3218c",
      "error": null,
      "execute_input": "def x_in_process(coord2d, x_coord, lx, processes_in_x):\n    lower = coord2d[0] * (lx // processes_in_x)\n    upper = (coord2d[0] + 1) * (lx // processes_in_x) - 1 if not coord2d[0] == processes_in_x - 1 else lx - 1\n    return lower <= x_coord <= upper\n\ndef y_in_process(coord2d, y_coord, ly, processes_in_y):\n    lower = coord2d[1] * (ly // processes_in_y)\n    upper = (coord2d[1] + 1) * (ly // processes_in_y) - 1 if not coord2d[1] == processes_in_y - 1 else ly - 1\n    return lower <= y_coord <= upper\n#x_in_process(coord2d, 0, lx-1, x_size)\ny_in_process(coord2d, 6, ly, y_size)\n",
      "execute_result": {
       "data": {
        "text/plain": "False"
       },
       "execution_count": 49,
       "metadata": {}
      },
      "follow": [],
      "msg_id": "fb739d51-6492a50db6d5bc183296121d_290",
      "outputs": [],
      "received": "2020-07-15T21:52:49.469932",
      "started": "2020-07-15T21:52:49.446678",
      "status": "ok",
      "stderr": "",
      "stdout": "",
      "submitted": "2020-07-15T21:52:49.440587"
     },
     "output_type": "display_data"
    },
    {
     "data": {
      "text/plain": [
       "\u001b[0;31mOut[2:49]: \u001b[0mFalse"
      ]
     },
     "metadata": {
      "after": [],
      "completed": "2020-07-15T21:52:49.465615",
      "data": {},
      "engine_id": 2,
      "engine_uuid": "21894764-8075497276fe67cb497c8558",
      "error": null,
      "execute_input": "def x_in_process(coord2d, x_coord, lx, processes_in_x):\n    lower = coord2d[0] * (lx // processes_in_x)\n    upper = (coord2d[0] + 1) * (lx // processes_in_x) - 1 if not coord2d[0] == processes_in_x - 1 else lx - 1\n    return lower <= x_coord <= upper\n\ndef y_in_process(coord2d, y_coord, ly, processes_in_y):\n    lower = coord2d[1] * (ly // processes_in_y)\n    upper = (coord2d[1] + 1) * (ly // processes_in_y) - 1 if not coord2d[1] == processes_in_y - 1 else ly - 1\n    return lower <= y_coord <= upper\n#x_in_process(coord2d, 0, lx-1, x_size)\ny_in_process(coord2d, 6, ly, y_size)\n",
      "execute_result": {
       "data": {
        "text/plain": "False"
       },
       "execution_count": 49,
       "metadata": {}
      },
      "follow": [],
      "msg_id": "fb739d51-6492a50db6d5bc183296121d_291",
      "outputs": [],
      "received": "2020-07-15T21:52:49.468380",
      "started": "2020-07-15T21:52:49.453473",
      "status": "ok",
      "stderr": "",
      "stdout": "",
      "submitted": "2020-07-15T21:52:49.440780"
     },
     "output_type": "display_data"
    },
    {
     "data": {
      "text/plain": [
       "\u001b[0;31mOut[3:49]: \u001b[0mFalse"
      ]
     },
     "metadata": {
      "after": [],
      "completed": "2020-07-15T21:52:49.470492",
      "data": {},
      "engine_id": 3,
      "engine_uuid": "b759c5dd-6c0b2307abb6930b6cac0806",
      "error": null,
      "execute_input": "def x_in_process(coord2d, x_coord, lx, processes_in_x):\n    lower = coord2d[0] * (lx // processes_in_x)\n    upper = (coord2d[0] + 1) * (lx // processes_in_x) - 1 if not coord2d[0] == processes_in_x - 1 else lx - 1\n    return lower <= x_coord <= upper\n\ndef y_in_process(coord2d, y_coord, ly, processes_in_y):\n    lower = coord2d[1] * (ly // processes_in_y)\n    upper = (coord2d[1] + 1) * (ly // processes_in_y) - 1 if not coord2d[1] == processes_in_y - 1 else ly - 1\n    return lower <= y_coord <= upper\n#x_in_process(coord2d, 0, lx-1, x_size)\ny_in_process(coord2d, 6, ly, y_size)\n",
      "execute_result": {
       "data": {
        "text/plain": "False"
       },
       "execution_count": 49,
       "metadata": {}
      },
      "follow": [],
      "msg_id": "fb739d51-6492a50db6d5bc183296121d_292",
      "outputs": [],
      "received": "2020-07-15T21:52:49.473448",
      "started": "2020-07-15T21:52:49.453378",
      "status": "ok",
      "stderr": "",
      "stdout": "",
      "submitted": "2020-07-15T21:52:49.440978"
     },
     "output_type": "display_data"
    },
    {
     "data": {
      "text/plain": [
       "\u001b[0;31mOut[4:49]: \u001b[0mFalse"
      ]
     },
     "metadata": {
      "after": [],
      "completed": "2020-07-15T21:52:49.463402",
      "data": {},
      "engine_id": 4,
      "engine_uuid": "3163865b-c322ccc94d3027338da252e0",
      "error": null,
      "execute_input": "def x_in_process(coord2d, x_coord, lx, processes_in_x):\n    lower = coord2d[0] * (lx // processes_in_x)\n    upper = (coord2d[0] + 1) * (lx // processes_in_x) - 1 if not coord2d[0] == processes_in_x - 1 else lx - 1\n    return lower <= x_coord <= upper\n\ndef y_in_process(coord2d, y_coord, ly, processes_in_y):\n    lower = coord2d[1] * (ly // processes_in_y)\n    upper = (coord2d[1] + 1) * (ly // processes_in_y) - 1 if not coord2d[1] == processes_in_y - 1 else ly - 1\n    return lower <= y_coord <= upper\n#x_in_process(coord2d, 0, lx-1, x_size)\ny_in_process(coord2d, 6, ly, y_size)\n",
      "execute_result": {
       "data": {
        "text/plain": "False"
       },
       "execution_count": 49,
       "metadata": {}
      },
      "follow": [],
      "msg_id": "fb739d51-6492a50db6d5bc183296121d_293",
      "outputs": [],
      "received": "2020-07-15T21:52:49.466192",
      "started": "2020-07-15T21:52:49.453473",
      "status": "ok",
      "stderr": "",
      "stdout": "",
      "submitted": "2020-07-15T21:52:49.444020"
     },
     "output_type": "display_data"
    },
    {
     "data": {
      "text/plain": [
       "\u001b[0;31mOut[5:49]: \u001b[0mFalse"
      ]
     },
     "metadata": {
      "after": [],
      "completed": "2020-07-15T21:52:49.462100",
      "data": {},
      "engine_id": 5,
      "engine_uuid": "48792103-132a5e3b43b122e7ea4a32ee",
      "error": null,
      "execute_input": "def x_in_process(coord2d, x_coord, lx, processes_in_x):\n    lower = coord2d[0] * (lx // processes_in_x)\n    upper = (coord2d[0] + 1) * (lx // processes_in_x) - 1 if not coord2d[0] == processes_in_x - 1 else lx - 1\n    return lower <= x_coord <= upper\n\ndef y_in_process(coord2d, y_coord, ly, processes_in_y):\n    lower = coord2d[1] * (ly // processes_in_y)\n    upper = (coord2d[1] + 1) * (ly // processes_in_y) - 1 if not coord2d[1] == processes_in_y - 1 else ly - 1\n    return lower <= y_coord <= upper\n#x_in_process(coord2d, 0, lx-1, x_size)\ny_in_process(coord2d, 6, ly, y_size)\n",
      "execute_result": {
       "data": {
        "text/plain": "False"
       },
       "execution_count": 49,
       "metadata": {}
      },
      "follow": [],
      "msg_id": "fb739d51-6492a50db6d5bc183296121d_294",
      "outputs": [],
      "received": "2020-07-15T21:52:49.464713",
      "started": "2020-07-15T21:52:49.453300",
      "status": "ok",
      "stderr": "",
      "stdout": "",
      "submitted": "2020-07-15T21:52:49.444187"
     },
     "output_type": "display_data"
    }
   ],
   "source": [
    "%%px\n",
    "def x_in_process(coord2d, x_coord, lx, processes_in_x):\n",
    "    lower = coord2d[0] * (lx // processes_in_x)\n",
    "    upper = (coord2d[0] + 1) * (lx // processes_in_x) - 1 if not coord2d[0] == processes_in_x - 1 else lx - 1\n",
    "    return lower <= x_coord <= upper\n",
    "\n",
    "def y_in_process(coord2d, y_coord, ly, processes_in_y):\n",
    "    lower = coord2d[1] * (ly // processes_in_y)\n",
    "    upper = (coord2d[1] + 1) * (ly // processes_in_y) - 1 if not coord2d[1] == processes_in_y - 1 else ly - 1\n",
    "    return lower <= y_coord <= upper\n",
    "#x_in_process(coord2d, 0, lx-1, x_size)\n",
    "y_in_process(coord2d, 6, ly, y_size)"
   ]
  },
  {
   "cell_type": "code",
   "execution_count": 51,
   "metadata": {},
   "outputs": [
    {
     "name": "stdout",
     "output_type": "stream",
     "text": [
      "[stdout:0] [0, 0]\n",
      "[stdout:1] [0, 1]\n"
     ]
    }
   ],
   "source": [
    "%%px\n",
    "def test(coord2d, x_coord, lx, process_in_x):\n",
    "    def f():\n",
    "        if x_in_process(coord2d, x_coord, lx, process_in_x):\n",
    "            print(coord2d)\n",
    "    return f\n",
    "test(coord2d, 0, lx, gcd_sorted[-2])()"
   ]
  },
  {
   "cell_type": "code",
   "execution_count": 60,
   "metadata": {},
   "outputs": [
    {
     "name": "stdout",
     "output_type": "stream",
     "text": [
      "[stdout:4] \n",
      "5 1 2 3 [1, 1]\n",
      "2.0 0\n"
     ]
    }
   ],
   "source": [
    "%%px\n",
    "def global_coord_to_local_coord(coord2d: list, global_x: int, global_y: int, lx: int, ly: int, x_size: int,\n",
    "                                y_size: int):\n",
    "    print(ly, ly // y_size, ly - (ly // y_size)*y_size, y_size, coord2d)\n",
    "    assert x_in_process(coord2d, global_x, lx, x_size)\n",
    "    assert y_in_process(coord2d, global_y, ly, y_size)\n",
    "    \n",
    "    local_x = global_x - coord2d[0] * (lx // x_size)\n",
    "    local_y = global_y - coord2d[1] * (ly // y_size)\n",
    "    return local_x, local_y\n",
    "    \n",
    "if coord2d == [1, 1]:\n",
    "    global_coord_to_local_coord(coord2d, 5, 1, lx, ly, x_size, y_size)"
   ]
  },
  {
   "cell_type": "code",
   "execution_count": null,
   "metadata": {},
   "outputs": [],
   "source": []
  }
 ],
 "metadata": {
  "kernelspec": {
   "display_name": "Python 3",
   "language": "python",
   "name": "python3"
  },
  "language_info": {
   "codemirror_mode": {
    "name": "ipython",
    "version": 3
   },
   "file_extension": ".py",
   "mimetype": "text/x-python",
   "name": "python",
   "nbconvert_exporter": "python",
   "pygments_lexer": "ipython3",
   "version": "3.6.9"
  }
 },
 "nbformat": 4,
 "nbformat_minor": 4
}
