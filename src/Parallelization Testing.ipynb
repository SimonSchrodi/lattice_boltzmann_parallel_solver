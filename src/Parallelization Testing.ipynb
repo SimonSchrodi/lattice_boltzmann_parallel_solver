{
 "cells": [
  {
   "cell_type": "code",
   "execution_count": 1,
   "metadata": {},
   "outputs": [
    {
     "data": {
      "text/plain": [
       "[0, 1, 2, 3, 4, 5, 6, 7]"
      ]
     },
     "execution_count": 1,
     "metadata": {},
     "output_type": "execute_result"
    }
   ],
   "source": [
    "\n",
    "\n",
    "import ipyparallel as ipp\n",
    "c = ipp.Client()\n",
    "c.ids\n",
    "\n"
   ]
  },
  {
   "cell_type": "code",
   "execution_count": 2,
   "metadata": {
    "scrolled": true
   },
   "outputs": [
    {
     "name": "stdout",
     "output_type": "stream",
     "text": [
      "[stdout:0] Rank 0 of 8 is alive.\n",
      "[stdout:1] Rank 1 of 8 is alive.\n",
      "[stdout:2] Rank 2 of 8 is alive.\n",
      "[stdout:3] Rank 3 of 8 is alive.\n",
      "[stdout:4] Rank 4 of 8 is alive.\n",
      "[stdout:5] Rank 5 of 8 is alive.\n",
      "[stdout:6] Rank 6 of 8 is alive.\n",
      "[stdout:7] Rank 7 of 8 is alive.\n"
     ]
    }
   ],
   "source": [
    "%%px\n",
    "from mpi4py import MPI\n",
    "comm = MPI.COMM_WORLD\n",
    "print('Rank {} of {} is alive.'.format(comm.Get_rank(), comm.Get_size()))"
   ]
  },
  {
   "cell_type": "code",
   "execution_count": 3,
   "metadata": {},
   "outputs": [],
   "source": [
    "%%px\n",
    "lx = 420\n",
    "ly = 180\n",
    "d = 40"
   ]
  },
  {
   "cell_type": "code",
   "execution_count": 53,
   "metadata": {},
   "outputs": [
    {
     "name": "stdout",
     "output_type": "stream",
     "text": [
      "[stdout:0] In 3D topology, Processor  0  has coordinates  [0, 0]\n",
      "[stdout:1] In 3D topology, Processor  1  has coordinates  [0, 1]\n",
      "[stdout:2] In 3D topology, Processor  2  has coordinates  [0, 2]\n",
      "[stdout:3] In 3D topology, Processor  3  has coordinates  [0, 3]\n",
      "[stdout:4] In 3D topology, Processor  4  has coordinates  [1, 0]\n",
      "[stdout:5] In 3D topology, Processor  5  has coordinates  [1, 1]\n",
      "[stdout:6] In 3D topology, Processor  6  has coordinates  [1, 2]\n",
      "[stdout:7] In 3D topology, Processor  7  has coordinates  [1, 3]\n"
     ]
    }
   ],
   "source": [
    "%%px\n",
    "import numpy as np\n",
    "from mpi4py import MPI\n",
    "comm = MPI.COMM_WORLD\n",
    "size = comm.Get_size()\n",
    "gcd = np.gcd(np.arange(size // 2), size)\n",
    "gcd_sorted = np.sort(gcd)\n",
    "cartesian3d = comm.Create_cart(dims = [gcd_sorted[-2], size / gcd_sorted[-2]], periods =[True, True],reorder=False)\n",
    "rank = comm.Get_rank()\n",
    "coord3d = cartesian3d.Get_coords(rank)\n",
    "print (\"In 3D topology, Processor \",rank, \" has coordinates \",coord3d)"
   ]
  },
  {
   "cell_type": "code",
   "execution_count": 21,
   "metadata": {},
   "outputs": [
    {
     "name": "stdout",
     "output_type": "stream",
     "text": [
      "[stdout:0] 52 22\n",
      "[stdout:1] 52 22\n",
      "[stdout:2] 52 22\n",
      "[stdout:3] 52 22\n",
      "[stdout:4] 52 22\n",
      "[stdout:5] 52 22\n",
      "[stdout:6] 52 22\n",
      "[stdout:7] 56 26\n"
     ]
    }
   ],
   "source": [
    "%%px\n",
    "n_local_x = lx // size\n",
    "n_local_y = ly // size\n",
    "if rank == size - 1:\n",
    "    n_local_x = lx - n_local_x * (size - 1)\n",
    "    n_local_y = ly - n_local_y * (size - 1)\n",
    "print(n_local_x, n_local_y)"
   ]
  },
  {
   "cell_type": "code",
   "execution_count": 27,
   "metadata": {},
   "outputs": [
    {
     "name": "stdout",
     "output_type": "stream",
     "text": [
      "[stdout:0] \n",
      "Process  0  coordinates  [0, 0]  with neighbors in x 4 4\n",
      "Process  0  coordinates  [0, 0]  with neighbors in y  1 3\n",
      "[stdout:1] \n",
      "Process  1  coordinates  [0, 1]  with neighbors in x 5 5\n",
      "Process  1  coordinates  [0, 1]  with neighbors in y  2 0\n",
      "[stdout:2] \n",
      "Process  2  coordinates  [0, 2]  with neighbors in x 6 6\n",
      "Process  2  coordinates  [0, 2]  with neighbors in y  3 1\n",
      "[stdout:3] \n",
      "Process  3  coordinates  [0, 3]  with neighbors in x 7 7\n",
      "Process  3  coordinates  [0, 3]  with neighbors in y  0 2\n",
      "[stdout:4] \n",
      "Process  4  coordinates  [1, 0]  with neighbors in x 0 0\n",
      "Process  4  coordinates  [1, 0]  with neighbors in y  5 7\n",
      "[stdout:5] \n",
      "Process  5  coordinates  [1, 1]  with neighbors in x 1 1\n",
      "Process  5  coordinates  [1, 1]  with neighbors in y  6 4\n",
      "[stdout:6] \n",
      "Process  6  coordinates  [1, 2]  with neighbors in x 2 2\n",
      "Process  6  coordinates  [1, 2]  with neighbors in y  7 5\n",
      "[stdout:7] \n",
      "Process  7  coordinates  [1, 3]  with neighbors in x 3 3\n",
      "Process  7  coordinates  [1, 3]  with neighbors in y  4 6\n"
     ]
    }
   ],
   "source": [
    "%%px\n",
    "left, right = cartesian3d.Shift(direction = 0,disp=1)\n",
    "print('Process ',rank, ' coordinates ', coord3d, ' with neighbors in x', left, right)\n",
    "\n",
    "bottom, top = cartesian3d.Shift(direction = 1,disp=1)\n",
    "print('Process ',rank, ' coordinates ', coord3d, ' with neighbors in y ', top, bottom)"
   ]
  },
  {
   "cell_type": "code",
   "execution_count": 34,
   "metadata": {},
   "outputs": [
    {
     "name": "stdout",
     "output_type": "stream",
     "text": [
      "[stdout:0] [0, 0]\n",
      "[stdout:1] [0, 1]\n",
      "[stdout:2] [0, 2]\n",
      "[stdout:3] [0, 3]\n"
     ]
    }
   ],
   "source": [
    "%%px\n",
    "if coord3d[0] == 0:\n",
    "    print(coord3d)"
   ]
  },
  {
   "cell_type": "code",
   "execution_count": 36,
   "metadata": {},
   "outputs": [
    {
     "name": "stdout",
     "output_type": "stream",
     "text": [
      "[stdout:0] (52, 22)\n",
      "[stdout:1] (52, 22)\n",
      "[stdout:2] (52, 22)\n",
      "[stdout:3] (52, 22)\n",
      "[stdout:4] (52, 22)\n",
      "[stdout:5] (52, 22)\n",
      "[stdout:6] (52, 22)\n",
      "[stdout:7] (56, 26)\n"
     ]
    }
   ],
   "source": [
    "%%px\n",
    "\n",
    "n_local_x = lx // size\n",
    "n_local_y = ly // size\n",
    "if rank == size - 1:\n",
    "    n_local_x = lx - n_local_x * (size - 1)\n",
    "    n_local_y = ly - n_local_y * (size - 1)\n",
    "    \n",
    "a = np.ones((n_local_x, n_local_y))\n",
    "print(a.shape)"
   ]
  },
  {
   "cell_type": "code",
   "execution_count": 91,
   "metadata": {},
   "outputs": [
    {
     "name": "stdout",
     "output_type": "stream",
     "text": [
      "[stdout:0] 419 0 208 [0, 0]\n",
      "[stdout:1] 419 0 208 [0, 1]\n",
      "[stdout:2] 419 0 208 [0, 2]\n",
      "[stdout:3] 419 0 208 [0, 3]\n",
      "[stdout:4] 419 209 419 [1, 0]\n",
      "[stdout:5] 419 209 419 [1, 1]\n",
      "[stdout:6] 419 209 419 [1, 2]\n",
      "[stdout:7] 419 209 419 [1, 3]\n"
     ]
    },
    {
     "data": {
      "text/plain": [
       "\u001b[0;31mOut[0:85]: \u001b[0mFalse"
      ]
     },
     "metadata": {
      "after": [],
      "completed": "2020-07-15T10:29:55.762630",
      "data": {},
      "engine_id": 0,
      "engine_uuid": "588340dc-7578f7adead9bd956f8719b3",
      "error": null,
      "execute_input": "def x_in_process(coord3d, x_coord, lx, processes_in_x):\n    lower = coord3d[0] * (lx // processes_in_x)\n    upper = (coord3d[0] + 1) * (lx // processes_in_x) - 1 if not coord3d[0] == processes_in_x - 1 else lx\n    print(lx, lower, upper, coord3d)\n    return lower <= x_coord <= upper\n\ndef y_in_process(coord3d, y_coord, ly, processes_in_y):\n    lower = coord3d[1] * (ly // processes_in_y)\n    upper = (coord3d[1] + 1) * (ly // processes_in_y) - 1\n    return lower <= y_coord <= upper\nx_in_process(coord3d, lx -1, lx-1, gcd_sorted[-2])\n#y_in_process(coord3d, 179, ly, size / gcd_sorted[-2])\n",
      "execute_result": {
       "data": {
        "text/plain": "False"
       },
       "execution_count": 85,
       "metadata": {}
      },
      "follow": [],
      "msg_id": "ba87b9cd-f77012f353fc222c8a33f6e0_673",
      "outputs": [],
      "received": "2020-07-15T10:29:55.766243",
      "started": "2020-07-15T10:29:55.743188",
      "status": "ok",
      "stderr": "",
      "stdout": "419 0 208 [0, 0]\n",
      "submitted": "2020-07-15T10:29:55.737104"
     },
     "output_type": "display_data"
    },
    {
     "data": {
      "text/plain": [
       "\u001b[0;31mOut[1:85]: \u001b[0mFalse"
      ]
     },
     "metadata": {
      "after": [],
      "completed": "2020-07-15T10:29:55.758427",
      "data": {},
      "engine_id": 1,
      "engine_uuid": "30e81281-66552102fd1af5518387e2d3",
      "error": null,
      "execute_input": "def x_in_process(coord3d, x_coord, lx, processes_in_x):\n    lower = coord3d[0] * (lx // processes_in_x)\n    upper = (coord3d[0] + 1) * (lx // processes_in_x) - 1 if not coord3d[0] == processes_in_x - 1 else lx\n    print(lx, lower, upper, coord3d)\n    return lower <= x_coord <= upper\n\ndef y_in_process(coord3d, y_coord, ly, processes_in_y):\n    lower = coord3d[1] * (ly // processes_in_y)\n    upper = (coord3d[1] + 1) * (ly // processes_in_y) - 1\n    return lower <= y_coord <= upper\nx_in_process(coord3d, lx -1, lx-1, gcd_sorted[-2])\n#y_in_process(coord3d, 179, ly, size / gcd_sorted[-2])\n",
      "execute_result": {
       "data": {
        "text/plain": "False"
       },
       "execution_count": 85,
       "metadata": {}
      },
      "follow": [],
      "msg_id": "ba87b9cd-f77012f353fc222c8a33f6e0_674",
      "outputs": [],
      "received": "2020-07-15T10:29:55.761461",
      "started": "2020-07-15T10:29:55.743234",
      "status": "ok",
      "stderr": "",
      "stdout": "419 0 208 [0, 1]\n",
      "submitted": "2020-07-15T10:29:55.737480"
     },
     "output_type": "display_data"
    },
    {
     "data": {
      "text/plain": [
       "\u001b[0;31mOut[2:85]: \u001b[0mFalse"
      ]
     },
     "metadata": {
      "after": [],
      "completed": "2020-07-15T10:29:55.762330",
      "data": {},
      "engine_id": 2,
      "engine_uuid": "e38c41cc-6c616ac0820e6b08321aa179",
      "error": null,
      "execute_input": "def x_in_process(coord3d, x_coord, lx, processes_in_x):\n    lower = coord3d[0] * (lx // processes_in_x)\n    upper = (coord3d[0] + 1) * (lx // processes_in_x) - 1 if not coord3d[0] == processes_in_x - 1 else lx\n    print(lx, lower, upper, coord3d)\n    return lower <= x_coord <= upper\n\ndef y_in_process(coord3d, y_coord, ly, processes_in_y):\n    lower = coord3d[1] * (ly // processes_in_y)\n    upper = (coord3d[1] + 1) * (ly // processes_in_y) - 1\n    return lower <= y_coord <= upper\nx_in_process(coord3d, lx -1, lx-1, gcd_sorted[-2])\n#y_in_process(coord3d, 179, ly, size / gcd_sorted[-2])\n",
      "execute_result": {
       "data": {
        "text/plain": "False"
       },
       "execution_count": 85,
       "metadata": {}
      },
      "follow": [],
      "msg_id": "ba87b9cd-f77012f353fc222c8a33f6e0_675",
      "outputs": [],
      "received": "2020-07-15T10:29:55.765374",
      "started": "2020-07-15T10:29:55.743161",
      "status": "ok",
      "stderr": "",
      "stdout": "419 0 208 [0, 2]\n",
      "submitted": "2020-07-15T10:29:55.737795"
     },
     "output_type": "display_data"
    },
    {
     "data": {
      "text/plain": [
       "\u001b[0;31mOut[3:85]: \u001b[0mFalse"
      ]
     },
     "metadata": {
      "after": [],
      "completed": "2020-07-15T10:29:55.772087",
      "data": {},
      "engine_id": 3,
      "engine_uuid": "52ccf734-197bd32f6faad117af38325f",
      "error": null,
      "execute_input": "def x_in_process(coord3d, x_coord, lx, processes_in_x):\n    lower = coord3d[0] * (lx // processes_in_x)\n    upper = (coord3d[0] + 1) * (lx // processes_in_x) - 1 if not coord3d[0] == processes_in_x - 1 else lx\n    print(lx, lower, upper, coord3d)\n    return lower <= x_coord <= upper\n\ndef y_in_process(coord3d, y_coord, ly, processes_in_y):\n    lower = coord3d[1] * (ly // processes_in_y)\n    upper = (coord3d[1] + 1) * (ly // processes_in_y) - 1\n    return lower <= y_coord <= upper\nx_in_process(coord3d, lx -1, lx-1, gcd_sorted[-2])\n#y_in_process(coord3d, 179, ly, size / gcd_sorted[-2])\n",
      "execute_result": {
       "data": {
        "text/plain": "False"
       },
       "execution_count": 85,
       "metadata": {}
      },
      "follow": [],
      "msg_id": "ba87b9cd-f77012f353fc222c8a33f6e0_676",
      "outputs": [],
      "received": "2020-07-15T10:29:55.774778",
      "started": "2020-07-15T10:29:55.744901",
      "status": "ok",
      "stderr": "",
      "stdout": "419 0 208 [0, 3]\n",
      "submitted": "2020-07-15T10:29:55.738282"
     },
     "output_type": "display_data"
    },
    {
     "data": {
      "text/plain": [
       "\u001b[0;31mOut[4:85]: \u001b[0mTrue"
      ]
     },
     "metadata": {
      "after": [],
      "completed": "2020-07-15T10:29:55.765888",
      "data": {},
      "engine_id": 4,
      "engine_uuid": "c0f24314-9c18d9fa576b1cbc47848fea",
      "error": null,
      "execute_input": "def x_in_process(coord3d, x_coord, lx, processes_in_x):\n    lower = coord3d[0] * (lx // processes_in_x)\n    upper = (coord3d[0] + 1) * (lx // processes_in_x) - 1 if not coord3d[0] == processes_in_x - 1 else lx\n    print(lx, lower, upper, coord3d)\n    return lower <= x_coord <= upper\n\ndef y_in_process(coord3d, y_coord, ly, processes_in_y):\n    lower = coord3d[1] * (ly // processes_in_y)\n    upper = (coord3d[1] + 1) * (ly // processes_in_y) - 1\n    return lower <= y_coord <= upper\nx_in_process(coord3d, lx -1, lx-1, gcd_sorted[-2])\n#y_in_process(coord3d, 179, ly, size / gcd_sorted[-2])\n",
      "execute_result": {
       "data": {
        "text/plain": "True"
       },
       "execution_count": 85,
       "metadata": {}
      },
      "follow": [],
      "msg_id": "ba87b9cd-f77012f353fc222c8a33f6e0_677",
      "outputs": [],
      "received": "2020-07-15T10:29:55.768612",
      "started": "2020-07-15T10:29:55.744583",
      "status": "ok",
      "stderr": "",
      "stdout": "419 209 419 [1, 0]\n",
      "submitted": "2020-07-15T10:29:55.738692"
     },
     "output_type": "display_data"
    },
    {
     "data": {
      "text/plain": [
       "\u001b[0;31mOut[5:85]: \u001b[0mTrue"
      ]
     },
     "metadata": {
      "after": [],
      "completed": "2020-07-15T10:29:55.769061",
      "data": {},
      "engine_id": 5,
      "engine_uuid": "eea97684-d5bf794f78d34fb08ca87c49",
      "error": null,
      "execute_input": "def x_in_process(coord3d, x_coord, lx, processes_in_x):\n    lower = coord3d[0] * (lx // processes_in_x)\n    upper = (coord3d[0] + 1) * (lx // processes_in_x) - 1 if not coord3d[0] == processes_in_x - 1 else lx\n    print(lx, lower, upper, coord3d)\n    return lower <= x_coord <= upper\n\ndef y_in_process(coord3d, y_coord, ly, processes_in_y):\n    lower = coord3d[1] * (ly // processes_in_y)\n    upper = (coord3d[1] + 1) * (ly // processes_in_y) - 1\n    return lower <= y_coord <= upper\nx_in_process(coord3d, lx -1, lx-1, gcd_sorted[-2])\n#y_in_process(coord3d, 179, ly, size / gcd_sorted[-2])\n",
      "execute_result": {
       "data": {
        "text/plain": "True"
       },
       "execution_count": 85,
       "metadata": {}
      },
      "follow": [],
      "msg_id": "ba87b9cd-f77012f353fc222c8a33f6e0_678",
      "outputs": [],
      "received": "2020-07-15T10:29:55.771765",
      "started": "2020-07-15T10:29:55.751288",
      "status": "ok",
      "stderr": "",
      "stdout": "419 209 419 [1, 1]\n",
      "submitted": "2020-07-15T10:29:55.738987"
     },
     "output_type": "display_data"
    },
    {
     "data": {
      "text/plain": [
       "\u001b[0;31mOut[6:85]: \u001b[0mTrue"
      ]
     },
     "metadata": {
      "after": [],
      "completed": "2020-07-15T10:29:55.758884",
      "data": {},
      "engine_id": 6,
      "engine_uuid": "5f6db1c2-ae37226c6b7bffc523c6e961",
      "error": null,
      "execute_input": "def x_in_process(coord3d, x_coord, lx, processes_in_x):\n    lower = coord3d[0] * (lx // processes_in_x)\n    upper = (coord3d[0] + 1) * (lx // processes_in_x) - 1 if not coord3d[0] == processes_in_x - 1 else lx\n    print(lx, lower, upper, coord3d)\n    return lower <= x_coord <= upper\n\ndef y_in_process(coord3d, y_coord, ly, processes_in_y):\n    lower = coord3d[1] * (ly // processes_in_y)\n    upper = (coord3d[1] + 1) * (ly // processes_in_y) - 1\n    return lower <= y_coord <= upper\nx_in_process(coord3d, lx -1, lx-1, gcd_sorted[-2])\n#y_in_process(coord3d, 179, ly, size / gcd_sorted[-2])\n",
      "execute_result": {
       "data": {
        "text/plain": "True"
       },
       "execution_count": 85,
       "metadata": {}
      },
      "follow": [],
      "msg_id": "ba87b9cd-f77012f353fc222c8a33f6e0_679",
      "outputs": [],
      "received": "2020-07-15T10:29:55.764495",
      "started": "2020-07-15T10:29:55.744723",
      "status": "ok",
      "stderr": "",
      "stdout": "419 209 419 [1, 2]\n",
      "submitted": "2020-07-15T10:29:55.739229"
     },
     "output_type": "display_data"
    },
    {
     "data": {
      "text/plain": [
       "\u001b[0;31mOut[7:85]: \u001b[0mTrue"
      ]
     },
     "metadata": {
      "after": [],
      "completed": "2020-07-15T10:29:55.758918",
      "data": {},
      "engine_id": 7,
      "engine_uuid": "3e464ebb-5ecd9852ec853426f5c23be2",
      "error": null,
      "execute_input": "def x_in_process(coord3d, x_coord, lx, processes_in_x):\n    lower = coord3d[0] * (lx // processes_in_x)\n    upper = (coord3d[0] + 1) * (lx // processes_in_x) - 1 if not coord3d[0] == processes_in_x - 1 else lx\n    print(lx, lower, upper, coord3d)\n    return lower <= x_coord <= upper\n\ndef y_in_process(coord3d, y_coord, ly, processes_in_y):\n    lower = coord3d[1] * (ly // processes_in_y)\n    upper = (coord3d[1] + 1) * (ly // processes_in_y) - 1\n    return lower <= y_coord <= upper\nx_in_process(coord3d, lx -1, lx-1, gcd_sorted[-2])\n#y_in_process(coord3d, 179, ly, size / gcd_sorted[-2])\n",
      "execute_result": {
       "data": {
        "text/plain": "True"
       },
       "execution_count": 85,
       "metadata": {}
      },
      "follow": [],
      "msg_id": "ba87b9cd-f77012f353fc222c8a33f6e0_680",
      "outputs": [],
      "received": "2020-07-15T10:29:55.762991",
      "started": "2020-07-15T10:29:55.744917",
      "status": "ok",
      "stderr": "",
      "stdout": "419 209 419 [1, 3]\n",
      "submitted": "2020-07-15T10:29:55.739399"
     },
     "output_type": "display_data"
    }
   ],
   "source": [
    "%%px\n",
    "def x_in_process(coord3d, x_coord, lx, processes_in_x):\n",
    "    lower = coord3d[0] * (lx // processes_in_x)\n",
    "    upper = (coord3d[0] + 1) * (lx // processes_in_x) - 1 if not coord3d[0] == processes_in_x - 1 else lx\n",
    "    return lower <= x_coord <= upper\n",
    "\n",
    "def y_in_process(coord3d, y_coord, ly, processes_in_y):\n",
    "    lower = coord3d[1] * (ly // processes_in_y)\n",
    "    upper = (coord3d[1] + 1) * (ly // processes_in_y) - 1\n",
    "    return lower <= y_coord <= upper\n",
    "x_in_process(coord3d, lx -1, lx-1, gcd_sorted[-2])\n",
    "#y_in_process(coord3d, 179, ly, size / gcd_sorted[-2])"
   ]
  },
  {
   "cell_type": "code",
   "execution_count": 86,
   "metadata": {},
   "outputs": [
    {
     "data": {
      "text/plain": [
       "\u001b[0;31mOut[0:80]: \u001b[0m8"
      ]
     },
     "metadata": {
      "after": [],
      "completed": "2020-07-15T10:26:53.810662",
      "data": {},
      "engine_id": 0,
      "engine_uuid": "588340dc-7578f7adead9bd956f8719b3",
      "error": null,
      "execute_input": "size\n",
      "execute_result": {
       "data": {
        "text/plain": "8"
       },
       "execution_count": 80,
       "metadata": {}
      },
      "follow": [],
      "msg_id": "ba87b9cd-f77012f353fc222c8a33f6e0_633",
      "outputs": [],
      "received": "2020-07-15T10:26:53.814419",
      "started": "2020-07-15T10:26:53.807368",
      "status": "ok",
      "stderr": "",
      "stdout": "",
      "submitted": "2020-07-15T10:26:53.805010"
     },
     "output_type": "display_data"
    },
    {
     "data": {
      "text/plain": [
       "\u001b[0;31mOut[1:80]: \u001b[0m8"
      ]
     },
     "metadata": {
      "after": [],
      "completed": "2020-07-15T10:26:53.811151",
      "data": {},
      "engine_id": 1,
      "engine_uuid": "30e81281-66552102fd1af5518387e2d3",
      "error": null,
      "execute_input": "size\n",
      "execute_result": {
       "data": {
        "text/plain": "8"
       },
       "execution_count": 80,
       "metadata": {}
      },
      "follow": [],
      "msg_id": "ba87b9cd-f77012f353fc222c8a33f6e0_634",
      "outputs": [],
      "received": "2020-07-15T10:26:53.816012",
      "started": "2020-07-15T10:26:53.808232",
      "status": "ok",
      "stderr": "",
      "stdout": "",
      "submitted": "2020-07-15T10:26:53.805234"
     },
     "output_type": "display_data"
    },
    {
     "data": {
      "text/plain": [
       "\u001b[0;31mOut[2:80]: \u001b[0m8"
      ]
     },
     "metadata": {
      "after": [],
      "completed": "2020-07-15T10:26:53.813307",
      "data": {},
      "engine_id": 2,
      "engine_uuid": "e38c41cc-6c616ac0820e6b08321aa179",
      "error": null,
      "execute_input": "size\n",
      "execute_result": {
       "data": {
        "text/plain": "8"
       },
       "execution_count": 80,
       "metadata": {}
      },
      "follow": [],
      "msg_id": "ba87b9cd-f77012f353fc222c8a33f6e0_635",
      "outputs": [],
      "received": "2020-07-15T10:26:53.817558",
      "started": "2020-07-15T10:26:53.809650",
      "status": "ok",
      "stderr": "",
      "stdout": "",
      "submitted": "2020-07-15T10:26:53.806397"
     },
     "output_type": "display_data"
    },
    {
     "data": {
      "text/plain": [
       "\u001b[0;31mOut[3:80]: \u001b[0m8"
      ]
     },
     "metadata": {
      "after": [],
      "completed": "2020-07-15T10:26:53.817344",
      "data": {},
      "engine_id": 3,
      "engine_uuid": "52ccf734-197bd32f6faad117af38325f",
      "error": null,
      "execute_input": "size\n",
      "execute_result": {
       "data": {
        "text/plain": "8"
       },
       "execution_count": 80,
       "metadata": {}
      },
      "follow": [],
      "msg_id": "ba87b9cd-f77012f353fc222c8a33f6e0_636",
      "outputs": [],
      "received": "2020-07-15T10:26:53.820155",
      "started": "2020-07-15T10:26:53.810517",
      "status": "ok",
      "stderr": "",
      "stdout": "",
      "submitted": "2020-07-15T10:26:53.806830"
     },
     "output_type": "display_data"
    },
    {
     "data": {
      "text/plain": [
       "\u001b[0;31mOut[4:80]: \u001b[0m8"
      ]
     },
     "metadata": {
      "after": [],
      "completed": "2020-07-15T10:26:53.818396",
      "data": {},
      "engine_id": 4,
      "engine_uuid": "c0f24314-9c18d9fa576b1cbc47848fea",
      "error": null,
      "execute_input": "size\n",
      "execute_result": {
       "data": {
        "text/plain": "8"
       },
       "execution_count": 80,
       "metadata": {}
      },
      "follow": [],
      "msg_id": "ba87b9cd-f77012f353fc222c8a33f6e0_637",
      "outputs": [],
      "received": "2020-07-15T10:26:53.822164",
      "started": "2020-07-15T10:26:53.814126",
      "status": "ok",
      "stderr": "",
      "stdout": "",
      "submitted": "2020-07-15T10:26:53.807791"
     },
     "output_type": "display_data"
    },
    {
     "data": {
      "text/plain": [
       "\u001b[0;31mOut[5:80]: \u001b[0m8"
      ]
     },
     "metadata": {
      "after": [],
      "completed": "2020-07-15T10:26:53.821483",
      "data": {},
      "engine_id": 5,
      "engine_uuid": "eea97684-d5bf794f78d34fb08ca87c49",
      "error": null,
      "execute_input": "size\n",
      "execute_result": {
       "data": {
        "text/plain": "8"
       },
       "execution_count": 80,
       "metadata": {}
      },
      "follow": [],
      "msg_id": "ba87b9cd-f77012f353fc222c8a33f6e0_638",
      "outputs": [],
      "received": "2020-07-15T10:26:53.824091",
      "started": "2020-07-15T10:26:53.814241",
      "status": "ok",
      "stderr": "",
      "stdout": "",
      "submitted": "2020-07-15T10:26:53.807959"
     },
     "output_type": "display_data"
    },
    {
     "data": {
      "text/plain": [
       "\u001b[0;31mOut[6:80]: \u001b[0m8"
      ]
     },
     "metadata": {
      "after": [],
      "completed": "2020-07-15T10:26:53.822105",
      "data": {},
      "engine_id": 6,
      "engine_uuid": "5f6db1c2-ae37226c6b7bffc523c6e961",
      "error": null,
      "execute_input": "size\n",
      "execute_result": {
       "data": {
        "text/plain": "8"
       },
       "execution_count": 80,
       "metadata": {}
      },
      "follow": [],
      "msg_id": "ba87b9cd-f77012f353fc222c8a33f6e0_639",
      "outputs": [],
      "received": "2020-07-15T10:26:53.824986",
      "started": "2020-07-15T10:26:53.817143",
      "status": "ok",
      "stderr": "",
      "stdout": "",
      "submitted": "2020-07-15T10:26:53.808143"
     },
     "output_type": "display_data"
    },
    {
     "data": {
      "text/plain": [
       "\u001b[0;31mOut[7:80]: \u001b[0m8"
      ]
     },
     "metadata": {
      "after": [],
      "completed": "2020-07-15T10:26:53.818351",
      "data": {},
      "engine_id": 7,
      "engine_uuid": "3e464ebb-5ecd9852ec853426f5c23be2",
      "error": null,
      "execute_input": "size\n",
      "execute_result": {
       "data": {
        "text/plain": "8"
       },
       "execution_count": 80,
       "metadata": {}
      },
      "follow": [],
      "msg_id": "ba87b9cd-f77012f353fc222c8a33f6e0_640",
      "outputs": [],
      "received": "2020-07-15T10:26:53.821192",
      "started": "2020-07-15T10:26:53.814272",
      "status": "ok",
      "stderr": "",
      "stdout": "",
      "submitted": "2020-07-15T10:26:53.808299"
     },
     "output_type": "display_data"
    }
   ],
   "source": [
    "%%px\n",
    "size"
   ]
  },
  {
   "cell_type": "code",
   "execution_count": null,
   "metadata": {},
   "outputs": [],
   "source": []
  }
 ],
 "metadata": {
  "kernelspec": {
   "display_name": "Python 3",
   "language": "python",
   "name": "python3"
  },
  "language_info": {
   "codemirror_mode": {
    "name": "ipython",
    "version": 3
   },
   "file_extension": ".py",
   "mimetype": "text/x-python",
   "name": "python",
   "nbconvert_exporter": "python",
   "pygments_lexer": "ipython3",
   "version": "3.6.9"
  }
 },
 "nbformat": 4,
 "nbformat_minor": 4
}
